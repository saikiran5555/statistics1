{
 "cells": [
  {
   "cell_type": "markdown",
   "id": "2adef8cb",
   "metadata": {},
   "source": [
    "\n",
    "Let's categorize the given datasets with respect to quantitative and qualitative data types:\n",
    "\n",
    "(i) Grading in exam: A+, A, B+, B, C+, C, D, E\n",
    "\n",
    "Data Type: Qualitative (Ordinal)\n",
    "Explanation: The grading system consists of categories or labels (A+, A, B+, B, etc.) that represent ordered categories. While there is a meaningful order, it's qualitative in nature, and the intervals between grades are not necessarily equal.\n",
    "(ii) Colour of mangoes: yellow, green, orange, red\n",
    "\n",
    "Data Type: Qualitative (Nominal)\n",
    "Explanation: The colors of mangoes are categories or labels (yellow, green, orange, red) without a meaningful order or ranking. This is a nominal qualitative data type.\n",
    "(iii) Height data of a class: [178.9, 179, 179.5, 176, 177.2, 178.3, 175.8, ...]\n",
    "\n",
    "Data Type: Quantitative (Ratio)\n",
    "Explanation: Heights are represented as numerical values with a meaningful order, equal intervals, and a true zero point (absence of height). This data is quantitative and ratio in nature.\n",
    "(iv) Number of mangoes exported by a farm: [500, 600, 478, 672, ...]\n",
    "\n",
    "Data Type: Quantitative (Ratio)\n",
    "Explanation: The number of mangoes is represented as numerical values. Similar to height data, it is quantitative and ratio in nature because it has a meaningful order, equal intervals, and a true zero point (indicating no mangoes).\n",
    "In summary:\n",
    "\n",
    "Grading in the exam and the color of mangoes are qualitative data types.\n",
    "Height data of a class and the number of mangoes exported by a farm are quantitative data types."
   ]
  }
 ],
 "metadata": {
  "kernelspec": {
   "display_name": "Python 3 (ipykernel)",
   "language": "python",
   "name": "python3"
  },
  "language_info": {
   "codemirror_mode": {
    "name": "ipython",
    "version": 3
   },
   "file_extension": ".py",
   "mimetype": "text/x-python",
   "name": "python",
   "nbconvert_exporter": "python",
   "pygments_lexer": "ipython3",
   "version": "3.10.9"
  }
 },
 "nbformat": 4,
 "nbformat_minor": 5
}
